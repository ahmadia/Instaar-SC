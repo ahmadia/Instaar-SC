{
 "metadata": {
  "name": "",
  "signature": "sha256:a9a07af1e34d31dff2e04bb3185e93a54142f399b5dfa0f7b39198acce82d960"
 },
 "nbformat": 3,
 "nbformat_minor": 0,
 "worksheets": [
  {
   "cells": [
    {
     "cell_type": "code",
     "collapsed": false,
     "input": [
      "%matplotlib inline\n",
      "import numpy as np\n",
      "import pylab as plt"
     ],
     "language": "python",
     "metadata": {},
     "outputs": []
    },
    {
     "cell_type": "heading",
     "level": 6,
     "metadata": {},
     "source": [
      "Linear Algebra"
     ]
    },
    {
     "cell_type": "code",
     "collapsed": false,
     "input": [
      "from scipy import linalg"
     ],
     "language": "python",
     "metadata": {},
     "outputs": []
    },
    {
     "cell_type": "code",
     "collapsed": false,
     "input": [
      "# determinant of a square matrix\n",
      "sq_matrix = np.array([[1, 2],[3, 4]])\n",
      "\n",
      "linalg.det(sq_matrix)"
     ],
     "language": "python",
     "metadata": {},
     "outputs": []
    },
    {
     "cell_type": "code",
     "collapsed": false,
     "input": [
      "# inverse of a square matrix\n",
      "\n",
      "linalg.inv(sq_matrix)"
     ],
     "language": "python",
     "metadata": {},
     "outputs": []
    },
    {
     "cell_type": "heading",
     "level": 6,
     "metadata": {},
     "source": [
      "Statistics"
     ]
    },
    {
     "cell_type": "code",
     "collapsed": false,
     "input": [
      "# get random numbers with normal distribution\n",
      "a = np.random.normal(size=1000)\n",
      "bins = np.arange(-4, 5)\n",
      "\n",
      "# computes the histogram\n",
      "histogram = np.histogram(a, bins=bins, normed=True)[0]\n",
      "\n",
      "# shift the bins\n",
      "bins = 0.5*(bins[1:] + bins[:-1])"
     ],
     "language": "python",
     "metadata": {},
     "outputs": []
    },
    {
     "cell_type": "code",
     "collapsed": false,
     "input": [
      "# plot histogram of random numbers\n",
      "plt.plot(bins,histogram)"
     ],
     "language": "python",
     "metadata": {},
     "outputs": []
    },
    {
     "cell_type": "code",
     "collapsed": false,
     "input": [
      "from scipy import stats"
     ],
     "language": "python",
     "metadata": {},
     "outputs": []
    },
    {
     "cell_type": "code",
     "collapsed": false,
     "input": [
      "loc, std = stats.norm.fit(a) # location and scale\n",
      "\n",
      "print 'Center:', loc\n",
      "print 'Scale:', std"
     ],
     "language": "python",
     "metadata": {},
     "outputs": []
    },
    {
     "cell_type": "heading",
     "level": 6,
     "metadata": {},
     "source": [
      "Interpolation"
     ]
    },
    {
     "cell_type": "code",
     "collapsed": false,
     "input": [
      "# create some imaginary data\n",
      "measured_time = np.linspace(0, 1, 30)\n",
      "noise = (np.random.random(30) - 1)*0.25\n",
      "measures = np.sin(2 * np.pi * measured_time) + noise"
     ],
     "language": "python",
     "metadata": {},
     "outputs": []
    },
    {
     "cell_type": "code",
     "collapsed": false,
     "input": [
      "plt.plot(measured_time,measures,'k.')"
     ],
     "language": "python",
     "metadata": {},
     "outputs": []
    },
    {
     "cell_type": "code",
     "collapsed": false,
     "input": [
      "from scipy.interpolate import interp1d\n",
      "\n",
      "computed_time = np.linspace(0, 1, 50)"
     ],
     "language": "python",
     "metadata": {},
     "outputs": []
    },
    {
     "cell_type": "code",
     "collapsed": false,
     "input": [
      "# linear interpolator\n",
      "linear_interp = interp1d(measured_time, measures)\n",
      "\n",
      "# get y for values of x\n",
      "linear_results = linear_interp(computed_time)"
     ],
     "language": "python",
     "metadata": {},
     "outputs": []
    },
    {
     "cell_type": "code",
     "collapsed": false,
     "input": [
      "plt.plot(measured_time,measures,'k.')\n",
      "plt.plot(computed_time,linear_results,'b-')"
     ],
     "language": "python",
     "metadata": {},
     "outputs": []
    },
    {
     "cell_type": "code",
     "collapsed": false,
     "input": [
      "# cubic interpolator\n",
      "cubic_interp = interp1d(measured_time, measures, kind='cubic')\n",
      "\n",
      "# get y for values of x\n",
      "cubic_results = cubic_interp(computed_time)"
     ],
     "language": "python",
     "metadata": {},
     "outputs": []
    },
    {
     "cell_type": "code",
     "collapsed": false,
     "input": [
      "plt.plot(measured_time,measures,'k.')\n",
      "plt.plot(computed_time,linear_results,'b-')\n",
      "plt.plot(computed_time,cubic_results,'r-')"
     ],
     "language": "python",
     "metadata": {},
     "outputs": []
    },
    {
     "cell_type": "heading",
     "level": 6,
     "metadata": {},
     "source": [
      "Signal processing"
     ]
    },
    {
     "cell_type": "code",
     "collapsed": false,
     "input": [
      "from scipy import signal"
     ],
     "language": "python",
     "metadata": {},
     "outputs": []
    },
    {
     "cell_type": "code",
     "collapsed": false,
     "input": [
      "# remove linear trend from signal\n",
      "t = np.linspace(0, 5, 100)\n",
      "x = t + np.random.normal(size=100)\n",
      "\n",
      "plt.plot(t, x, 'k', linewidth=2)\n",
      "\n",
      "plt.plot(t, signal.detrend(x), 'r', linewidth=2)"
     ],
     "language": "python",
     "metadata": {},
     "outputs": []
    },
    {
     "cell_type": "heading",
     "level": 6,
     "metadata": {},
     "source": [
      "Fast Fourier Transforms"
     ]
    },
    {
     "cell_type": "code",
     "collapsed": false,
     "input": [
      "# make an array for time\n",
      "time_step = 0.02\n",
      "period = 5.\n",
      "time_vec = np.arange(0, 20, time_step)"
     ],
     "language": "python",
     "metadata": {},
     "outputs": []
    },
    {
     "cell_type": "code",
     "collapsed": false,
     "input": [
      "# make noisy signal\n",
      "sig = np.sin(2 * np.pi / period * time_vec) + \\\n",
      "      0.5 * np.random.randn(time_vec.size)"
     ],
     "language": "python",
     "metadata": {},
     "outputs": []
    },
    {
     "cell_type": "code",
     "collapsed": false,
     "input": [
      "# plot the signal\n",
      "plt.figure()\n",
      "plt.plot(time_vec, sig,'k')\n",
      "plt.xlabel('Time [s]')\n",
      "plt.ylabel('Amplitude')"
     ],
     "language": "python",
     "metadata": {},
     "outputs": []
    },
    {
     "cell_type": "code",
     "collapsed": false,
     "input": [
      "from scipy import fftpack\n",
      "bs(sig_fft)[pidxs]\n",
      "freq = freqs[power.argmax()]\n",
      "np.allclose(freq, 1./period)\n",
      "sig_fft[np.abs(sample_freq) > freq] = 0\n",
      "main_sig = fftpack.ifft(sig_fft)"
     ],
     "language": "python",
     "metadata": {},
     "outputs": []
    },
    {
     "cell_type": "code",
     "collapsed": false,
     "input": [
      "# plot the underlying signal\n",
      "plt.figure()\n",
      "plt.plot(time_vec, sig,'k')\n",
      "plt.plot(time_vec, main_sig, 'r', linewidth=3)\n",
      "plt.xlabel('Time [s]')\n",
      "plt.ylabel('Amplitude')"
     ],
     "language": "python",
     "metadata": {},
     "outputs": []
    },
    {
     "cell_type": "heading",
     "level": 6,
     "metadata": {},
     "source": [
      "Exercises"
     ]
    },
    {
     "cell_type": "raw",
     "metadata": {},
     "source": [
      "http://scipy-lectures.github.io/intro/scipy.html#summary-exercises-on-scientific-computing"
     ]
    },
    {
     "cell_type": "code",
     "collapsed": false,
     "input": [],
     "language": "python",
     "metadata": {},
     "outputs": []
    }
   ],
   "metadata": {}
  }
 ]
}