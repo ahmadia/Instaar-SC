{
 "metadata": {
  "name": "",
  "signature": "sha256:25bf397a7e87bf01123004d85e968ca5d0ca401dbd30b67b33562e9907e6bf89"
 },
 "nbformat": 3,
 "nbformat_minor": 0,
 "worksheets": [
  {
   "cells": [
    {
     "cell_type": "code",
     "collapsed": false,
     "input": [
      "cd txt_precip/"
     ],
     "language": "python",
     "metadata": {},
     "outputs": [
      {
       "output_type": "stream",
       "stream": "stdout",
       "text": [
        "/Users/aron/Desktop/workshop/Instaar-SC/txt_precip\n"
       ]
      }
     ],
     "prompt_number": 2
    },
    {
     "cell_type": "code",
     "collapsed": false,
     "input": [
      "f = open('P0.txt')"
     ],
     "language": "python",
     "metadata": {},
     "outputs": [],
     "prompt_number": 3
    },
    {
     "cell_type": "code",
     "collapsed": false,
     "input": [
      "d = f.readlines()"
     ],
     "language": "python",
     "metadata": {},
     "outputs": [],
     "prompt_number": 4
    },
    {
     "cell_type": "code",
     "collapsed": false,
     "input": [
      "d[0]"
     ],
     "language": "python",
     "metadata": {},
     "outputs": [
      {
       "metadata": {},
       "output_type": "pyout",
       "prompt_number": 5,
       "text": [
        "'stID,stName,Lat,Long,Elev,Network,stType,Precip_1h\\r\\n'"
       ]
      }
     ],
     "prompt_number": 5
    },
    {
     "cell_type": "code",
     "collapsed": false,
     "input": [
      "precipitation_data_match_string = 'precip'"
     ],
     "language": "python",
     "metadata": {},
     "outputs": [],
     "prompt_number": 6
    },
    {
     "cell_type": "code",
     "collapsed": false,
     "input": [
      "# assume that data is hourly!"
     ],
     "language": "python",
     "metadata": {},
     "outputs": [],
     "prompt_number": 7
    },
    {
     "cell_type": "code",
     "collapsed": false,
     "input": [
      "file_delimiter = ','"
     ],
     "language": "python",
     "metadata": {},
     "outputs": [],
     "prompt_number": 8
    },
    {
     "cell_type": "code",
     "collapsed": false,
     "input": [
      "line = d[0]"
     ],
     "language": "python",
     "metadata": {},
     "outputs": [],
     "prompt_number": 9
    },
    {
     "cell_type": "code",
     "collapsed": false,
     "input": [
      "line.split('file_delimiter')"
     ],
     "language": "python",
     "metadata": {},
     "outputs": [
      {
       "metadata": {},
       "output_type": "pyout",
       "prompt_number": 10,
       "text": [
        "['stID,stName,Lat,Long,Elev,Network,stType,Precip_1h\\r\\n']"
       ]
      }
     ],
     "prompt_number": 10
    },
    {
     "cell_type": "code",
     "collapsed": false,
     "input": [
      "line.split(file_delimiter)"
     ],
     "language": "python",
     "metadata": {},
     "outputs": [
      {
       "metadata": {},
       "output_type": "pyout",
       "prompt_number": 11,
       "text": [
        "['stID', 'stName', 'Lat', 'Long', 'Elev', 'Network', 'stType', 'Precip_1h\\r\\n']"
       ]
      }
     ],
     "prompt_number": 11
    },
    {
     "cell_type": "code",
     "collapsed": false,
     "input": [
      "fields = line.split(file_delimiter)"
     ],
     "language": "python",
     "metadata": {},
     "outputs": [],
     "prompt_number": 12
    },
    {
     "cell_type": "code",
     "collapsed": false,
     "input": [
      "matches = [precipitation_data_match_string in field.lower() for field in fields]"
     ],
     "language": "python",
     "metadata": {},
     "outputs": [],
     "prompt_number": 13
    },
    {
     "cell_type": "code",
     "collapsed": false,
     "input": [
      "matches"
     ],
     "language": "python",
     "metadata": {},
     "outputs": [
      {
       "metadata": {},
       "output_type": "pyout",
       "prompt_number": 14,
       "text": [
        "[False, False, False, False, False, False, False, True]"
       ]
      }
     ],
     "prompt_number": 14
    },
    {
     "cell_type": "code",
     "collapsed": false,
     "input": [
      "matches = [precipitation_data_match_string in f.lower() for f in fields]"
     ],
     "language": "python",
     "metadata": {},
     "outputs": [],
     "prompt_number": 15
    },
    {
     "cell_type": "code",
     "collapsed": false,
     "input": [
      "matches"
     ],
     "language": "python",
     "metadata": {},
     "outputs": [
      {
       "metadata": {},
       "output_type": "pyout",
       "prompt_number": 16,
       "text": [
        "[False, False, False, False, False, False, False, True]"
       ]
      }
     ],
     "prompt_number": 16
    },
    {
     "cell_type": "markdown",
     "metadata": {},
     "source": [
      "precipitation_data_match_string is lowercase"
     ]
    },
    {
     "cell_type": "code",
     "collapsed": false,
     "input": [
      "matches.index(True)"
     ],
     "language": "python",
     "metadata": {},
     "outputs": [
      {
       "metadata": {},
       "output_type": "pyout",
       "prompt_number": 17,
       "text": [
        "7"
       ]
      }
     ],
     "prompt_number": 17
    },
    {
     "cell_type": "code",
     "collapsed": false,
     "input": [
      "def get_precip_column(line, file_delimiter, precipitation_data_match_string):\n",
      "    fields = line.split(file_delimiter)\n",
      "    matches = [precipitation_data_match_string in field.lower() for field in fields]"
     ],
     "language": "python",
     "metadata": {},
     "outputs": [],
     "prompt_number": 18
    },
    {
     "cell_type": "code",
     "collapsed": false,
     "input": [
      "def get_precip_column(header_line, file_delimiter, precipitation_data_match_string):\n",
      "    fields = header_line.split(file_delimiter)\n",
      "    matches = [precipitation_data_match_string in field.lower() for field in fields]"
     ],
     "language": "python",
     "metadata": {},
     "outputs": [],
     "prompt_number": 19
    },
    {
     "cell_type": "code",
     "collapsed": false,
     "input": [
      "def get_precip_column(header_line, file_delimiter, precipitation_data_match_string):\n",
      "    \"\"\" Given a header line and delimiter, find column in line that contains a match\n",
      "    for the data string\"\"\"\n",
      "    fields = header_line.split(file_delimiter)\n",
      "    matches = [precipitation_data_match_string in field.lower() for field in fields]\n",
      "    if sum(matches) < 1:\n",
      "        raise ValueError(\"Unable to find a precipitation column %s in %s\" % (\n",
      "                         precipitation_data_match_string, fields))\n",
      "    elif sum(matches) > 1:\n",
      "        raise ValueError(\"Precipitation column is ambiguous %s in %s\" % (\n",
      "                         precipitation_data_match_string, fields))\n",
      "    return matches.index(True)"
     ],
     "language": "python",
     "metadata": {},
     "outputs": [],
     "prompt_number": 20
    },
    {
     "cell_type": "code",
     "collapsed": false,
     "input": [
      "def get_data_column(header_line, file_delimiter, data_match_string):\n",
      "    \"\"\" Given a header line and delimiter, find column in line that contains a match\n",
      "    for the data string\n",
      "    \n",
      "    Assumes: data_match_string is not case-sensitive\n",
      "    \"\"\"\n",
      "    fields = header_line.split(file_delimiter)\n",
      "    matches = [data_match_string.lower() in field.lower() for field in fields]\n",
      "    if sum(matches) < 1:\n",
      "        raise ValueError(\"Unable to find a %s column in %s\" % (\n",
      "                         data_match_string, fields))\n",
      "    elif sum(matches) > 1:\n",
      "        raise ValueError(\"%s column is ambiguous in %s\" % (\n",
      "                         data_match_string, fields))\n",
      "    return matches.index(True)"
     ],
     "language": "python",
     "metadata": {},
     "outputs": [],
     "prompt_number": 28
    },
    {
     "cell_type": "code",
     "collapsed": false,
     "input": [
      "get_data_column?"
     ],
     "language": "python",
     "metadata": {},
     "outputs": [],
     "prompt_number": 29
    },
    {
     "cell_type": "code",
     "collapsed": false,
     "input": [
      "get_data_column('Apples, Bananas, Cheerios', ',', 'Cheerios')"
     ],
     "language": "python",
     "metadata": {},
     "outputs": [
      {
       "metadata": {},
       "output_type": "pyout",
       "prompt_number": 30,
       "text": [
        "2"
       ]
      }
     ],
     "prompt_number": 30
    },
    {
     "cell_type": "code",
     "collapsed": false,
     "input": [
      "get_data_column('Apples, Bananas, Cheerios, Chocolate Cheerios', ',', 'Cheerios')"
     ],
     "language": "python",
     "metadata": {},
     "outputs": [
      {
       "ename": "ValueError",
       "evalue": "Cheerios column is ambiguous in ['Apples', ' Bananas', ' Cheerios', ' Chocolate Cheerios']",
       "output_type": "pyerr",
       "traceback": [
        "\u001b[0;31m---------------------------------------------------------------------------\u001b[0m\n\u001b[0;31mValueError\u001b[0m                                Traceback (most recent call last)",
        "\u001b[0;32m<ipython-input-32-1ee29e57c866>\u001b[0m in \u001b[0;36m<module>\u001b[0;34m()\u001b[0m\n\u001b[0;32m----> 1\u001b[0;31m \u001b[0mget_data_column\u001b[0m\u001b[0;34m(\u001b[0m\u001b[0;34m'Apples, Bananas, Cheerios, Chocolate Cheerios'\u001b[0m\u001b[0;34m,\u001b[0m \u001b[0;34m','\u001b[0m\u001b[0;34m,\u001b[0m \u001b[0;34m'Cheerios'\u001b[0m\u001b[0;34m)\u001b[0m\u001b[0;34m\u001b[0m\u001b[0m\n\u001b[0m",
        "\u001b[0;32m<ipython-input-28-14daaca8597e>\u001b[0m in \u001b[0;36mget_data_column\u001b[0;34m(header_line, file_delimiter, data_match_string)\u001b[0m\n\u001b[1;32m     12\u001b[0m     \u001b[0;32melif\u001b[0m \u001b[0msum\u001b[0m\u001b[0;34m(\u001b[0m\u001b[0mmatches\u001b[0m\u001b[0;34m)\u001b[0m \u001b[0;34m>\u001b[0m \u001b[0;36m1\u001b[0m\u001b[0;34m:\u001b[0m\u001b[0;34m\u001b[0m\u001b[0m\n\u001b[1;32m     13\u001b[0m         raise ValueError(\"%s column is ambiguous in %s\" % (\n\u001b[0;32m---> 14\u001b[0;31m                          data_match_string, fields))\n\u001b[0m\u001b[1;32m     15\u001b[0m     \u001b[0;32mreturn\u001b[0m \u001b[0mmatches\u001b[0m\u001b[0;34m.\u001b[0m\u001b[0mindex\u001b[0m\u001b[0;34m(\u001b[0m\u001b[0mTrue\u001b[0m\u001b[0;34m)\u001b[0m\u001b[0;34m\u001b[0m\u001b[0m\n",
        "\u001b[0;31mValueError\u001b[0m: Cheerios column is ambiguous in ['Apples', ' Bananas', ' Cheerios', ' Chocolate Cheerios']"
       ]
      }
     ],
     "prompt_number": 32
    },
    {
     "cell_type": "code",
     "collapsed": false,
     "input": [
      "get_data_column('Apples, Bananas, Cheerios, Chocolate Cheerios', ',', 'Ducks')"
     ],
     "language": "python",
     "metadata": {},
     "outputs": [
      {
       "ename": "ValueError",
       "evalue": "Unable to find a Ducks column in ['Apples', ' Bananas', ' Cheerios', ' Chocolate Cheerios']",
       "output_type": "pyerr",
       "traceback": [
        "\u001b[0;31m---------------------------------------------------------------------------\u001b[0m\n\u001b[0;31mValueError\u001b[0m                                Traceback (most recent call last)",
        "\u001b[0;32m<ipython-input-33-d2d296775e22>\u001b[0m in \u001b[0;36m<module>\u001b[0;34m()\u001b[0m\n\u001b[0;32m----> 1\u001b[0;31m \u001b[0mget_data_column\u001b[0m\u001b[0;34m(\u001b[0m\u001b[0;34m'Apples, Bananas, Cheerios, Chocolate Cheerios'\u001b[0m\u001b[0;34m,\u001b[0m \u001b[0;34m','\u001b[0m\u001b[0;34m,\u001b[0m \u001b[0;34m'Ducks'\u001b[0m\u001b[0;34m)\u001b[0m\u001b[0;34m\u001b[0m\u001b[0m\n\u001b[0m",
        "\u001b[0;32m<ipython-input-28-14daaca8597e>\u001b[0m in \u001b[0;36mget_data_column\u001b[0;34m(header_line, file_delimiter, data_match_string)\u001b[0m\n\u001b[1;32m      9\u001b[0m     \u001b[0;32mif\u001b[0m \u001b[0msum\u001b[0m\u001b[0;34m(\u001b[0m\u001b[0mmatches\u001b[0m\u001b[0;34m)\u001b[0m \u001b[0;34m<\u001b[0m \u001b[0;36m1\u001b[0m\u001b[0;34m:\u001b[0m\u001b[0;34m\u001b[0m\u001b[0m\n\u001b[1;32m     10\u001b[0m         raise ValueError(\"Unable to find a %s column in %s\" % (\n\u001b[0;32m---> 11\u001b[0;31m                          data_match_string, fields))\n\u001b[0m\u001b[1;32m     12\u001b[0m     \u001b[0;32melif\u001b[0m \u001b[0msum\u001b[0m\u001b[0;34m(\u001b[0m\u001b[0mmatches\u001b[0m\u001b[0;34m)\u001b[0m \u001b[0;34m>\u001b[0m \u001b[0;36m1\u001b[0m\u001b[0;34m:\u001b[0m\u001b[0;34m\u001b[0m\u001b[0m\n\u001b[1;32m     13\u001b[0m         raise ValueError(\"%s column is ambiguous in %s\" % (\n",
        "\u001b[0;31mValueError\u001b[0m: Unable to find a Ducks column in ['Apples', ' Bananas', ' Cheerios', ' Chocolate Cheerios']"
       ]
      }
     ],
     "prompt_number": 33
    },
    {
     "cell_type": "code",
     "collapsed": false,
     "input": [],
     "language": "python",
     "metadata": {},
     "outputs": []
    }
   ],
   "metadata": {}
  }
 ]
}